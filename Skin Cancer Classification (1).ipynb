{
 "cells": [
  {
   "cell_type": "markdown",
   "id": "129baa3a",
   "metadata": {},
   "source": [
    "# Step 1: Importing Essential Libraries"
   ]
  },
  {
   "cell_type": "code",
   "execution_count": null,
   "id": "ff6cb190",
   "metadata": {},
   "outputs": [],
   "source": [
    "# importing the libraries\n",
    "import pandas as pd\n",
    "import numpy as np\n",
    "import warnings \n",
    "warnings.filterwarnings('ignore')"
   ]
  },
  {
   "cell_type": "markdown",
   "id": "e492f973",
   "metadata": {},
   "source": [
    "# Step 2: Loading Data"
   ]
  },
  {
   "cell_type": "code",
   "execution_count": 6,
   "id": "a05e19da",
   "metadata": {},
   "outputs": [],
   "source": [
    "#Location of hmnist_28_28_RGB.csv from data set\n",
    "path=\"hmnist_28_28_RGB.csv\""
   ]
  },
  {
   "cell_type": "code",
   "execution_count": 7,
   "id": "61f7487e",
   "metadata": {},
   "outputs": [],
   "source": [
    "df=pd.read_csv(path)"
   ]
  },
  {
   "cell_type": "code",
   "execution_count": 8,
   "id": "3e414ec6",
   "metadata": {},
   "outputs": [
    {
     "data": {
      "text/html": [
       "<div>\n",
       "<style scoped>\n",
       "    .dataframe tbody tr th:only-of-type {\n",
       "        vertical-align: middle;\n",
       "    }\n",
       "\n",
       "    .dataframe tbody tr th {\n",
       "        vertical-align: top;\n",
       "    }\n",
       "\n",
       "    .dataframe thead th {\n",
       "        text-align: right;\n",
       "    }\n",
       "</style>\n",
       "<table border=\"1\" class=\"dataframe\">\n",
       "  <thead>\n",
       "    <tr style=\"text-align: right;\">\n",
       "      <th></th>\n",
       "      <th>pixel0000</th>\n",
       "      <th>pixel0001</th>\n",
       "      <th>pixel0002</th>\n",
       "      <th>pixel0003</th>\n",
       "      <th>pixel0004</th>\n",
       "      <th>pixel0005</th>\n",
       "      <th>pixel0006</th>\n",
       "      <th>pixel0007</th>\n",
       "      <th>pixel0008</th>\n",
       "      <th>pixel0009</th>\n",
       "      <th>...</th>\n",
       "      <th>pixel2343</th>\n",
       "      <th>pixel2344</th>\n",
       "      <th>pixel2345</th>\n",
       "      <th>pixel2346</th>\n",
       "      <th>pixel2347</th>\n",
       "      <th>pixel2348</th>\n",
       "      <th>pixel2349</th>\n",
       "      <th>pixel2350</th>\n",
       "      <th>pixel2351</th>\n",
       "      <th>label</th>\n",
       "    </tr>\n",
       "  </thead>\n",
       "  <tbody>\n",
       "    <tr>\n",
       "      <th>10010</th>\n",
       "      <td>183</td>\n",
       "      <td>165</td>\n",
       "      <td>181</td>\n",
       "      <td>182</td>\n",
       "      <td>165</td>\n",
       "      <td>180</td>\n",
       "      <td>184</td>\n",
       "      <td>166</td>\n",
       "      <td>182</td>\n",
       "      <td>188</td>\n",
       "      <td>...</td>\n",
       "      <td>208</td>\n",
       "      <td>185</td>\n",
       "      <td>187</td>\n",
       "      <td>208</td>\n",
       "      <td>186</td>\n",
       "      <td>186</td>\n",
       "      <td>206</td>\n",
       "      <td>187</td>\n",
       "      <td>189</td>\n",
       "      <td>0</td>\n",
       "    </tr>\n",
       "    <tr>\n",
       "      <th>10011</th>\n",
       "      <td>2</td>\n",
       "      <td>3</td>\n",
       "      <td>1</td>\n",
       "      <td>38</td>\n",
       "      <td>33</td>\n",
       "      <td>32</td>\n",
       "      <td>121</td>\n",
       "      <td>104</td>\n",
       "      <td>103</td>\n",
       "      <td>132</td>\n",
       "      <td>...</td>\n",
       "      <td>96</td>\n",
       "      <td>79</td>\n",
       "      <td>76</td>\n",
       "      <td>24</td>\n",
       "      <td>23</td>\n",
       "      <td>21</td>\n",
       "      <td>3</td>\n",
       "      <td>4</td>\n",
       "      <td>1</td>\n",
       "      <td>0</td>\n",
       "    </tr>\n",
       "    <tr>\n",
       "      <th>10012</th>\n",
       "      <td>132</td>\n",
       "      <td>118</td>\n",
       "      <td>118</td>\n",
       "      <td>167</td>\n",
       "      <td>149</td>\n",
       "      <td>149</td>\n",
       "      <td>175</td>\n",
       "      <td>156</td>\n",
       "      <td>160</td>\n",
       "      <td>184</td>\n",
       "      <td>...</td>\n",
       "      <td>204</td>\n",
       "      <td>181</td>\n",
       "      <td>178</td>\n",
       "      <td>181</td>\n",
       "      <td>159</td>\n",
       "      <td>153</td>\n",
       "      <td>172</td>\n",
       "      <td>151</td>\n",
       "      <td>145</td>\n",
       "      <td>0</td>\n",
       "    </tr>\n",
       "    <tr>\n",
       "      <th>10013</th>\n",
       "      <td>160</td>\n",
       "      <td>124</td>\n",
       "      <td>146</td>\n",
       "      <td>164</td>\n",
       "      <td>131</td>\n",
       "      <td>152</td>\n",
       "      <td>167</td>\n",
       "      <td>127</td>\n",
       "      <td>146</td>\n",
       "      <td>169</td>\n",
       "      <td>...</td>\n",
       "      <td>185</td>\n",
       "      <td>162</td>\n",
       "      <td>167</td>\n",
       "      <td>184</td>\n",
       "      <td>157</td>\n",
       "      <td>166</td>\n",
       "      <td>185</td>\n",
       "      <td>162</td>\n",
       "      <td>172</td>\n",
       "      <td>0</td>\n",
       "    </tr>\n",
       "    <tr>\n",
       "      <th>10014</th>\n",
       "      <td>175</td>\n",
       "      <td>142</td>\n",
       "      <td>121</td>\n",
       "      <td>181</td>\n",
       "      <td>150</td>\n",
       "      <td>134</td>\n",
       "      <td>181</td>\n",
       "      <td>150</td>\n",
       "      <td>133</td>\n",
       "      <td>178</td>\n",
       "      <td>...</td>\n",
       "      <td>159</td>\n",
       "      <td>79</td>\n",
       "      <td>82</td>\n",
       "      <td>174</td>\n",
       "      <td>137</td>\n",
       "      <td>125</td>\n",
       "      <td>175</td>\n",
       "      <td>139</td>\n",
       "      <td>126</td>\n",
       "      <td>6</td>\n",
       "    </tr>\n",
       "  </tbody>\n",
       "</table>\n",
       "<p>5 rows × 2353 columns</p>\n",
       "</div>"
      ],
      "text/plain": [
       "       pixel0000  pixel0001  pixel0002  pixel0003  pixel0004  pixel0005  \\\n",
       "10010        183        165        181        182        165        180   \n",
       "10011          2          3          1         38         33         32   \n",
       "10012        132        118        118        167        149        149   \n",
       "10013        160        124        146        164        131        152   \n",
       "10014        175        142        121        181        150        134   \n",
       "\n",
       "       pixel0006  pixel0007  pixel0008  pixel0009  ...  pixel2343  pixel2344  \\\n",
       "10010        184        166        182        188  ...        208        185   \n",
       "10011        121        104        103        132  ...         96         79   \n",
       "10012        175        156        160        184  ...        204        181   \n",
       "10013        167        127        146        169  ...        185        162   \n",
       "10014        181        150        133        178  ...        159         79   \n",
       "\n",
       "       pixel2345  pixel2346  pixel2347  pixel2348  pixel2349  pixel2350  \\\n",
       "10010        187        208        186        186        206        187   \n",
       "10011         76         24         23         21          3          4   \n",
       "10012        178        181        159        153        172        151   \n",
       "10013        167        184        157        166        185        162   \n",
       "10014         82        174        137        125        175        139   \n",
       "\n",
       "       pixel2351  label  \n",
       "10010        189      0  \n",
       "10011          1      0  \n",
       "10012        145      0  \n",
       "10013        172      0  \n",
       "10014        126      6  \n",
       "\n",
       "[5 rows x 2353 columns]"
      ]
     },
     "execution_count": 8,
     "metadata": {},
     "output_type": "execute_result"
    }
   ],
   "source": [
    "df.tail()"
   ]
  },
  {
   "cell_type": "markdown",
   "id": "5ad849cb",
   "metadata": {},
   "source": [
    "# Step 3: Train set and Testing set Split"
   ]
  },
  {
   "cell_type": "code",
   "execution_count": 9,
   "id": "ea82a90b",
   "metadata": {},
   "outputs": [],
   "source": [
    "fractions=np.array([0.8,0.2])\n",
    "\n",
    "df=df.sample(frac=1)\n",
    "\n",
    "train_set, test_set = np.array_split(df, (fractions[:-1].cumsum() * len(df)).astype(int))"
   ]
  },
  {
   "cell_type": "code",
   "execution_count": 10,
   "id": "65f70a3d",
   "metadata": {},
   "outputs": [
    {
     "name": "stdout",
     "output_type": "stream",
     "text": [
      "8012\n"
     ]
    }
   ],
   "source": [
    "print(len(train_set))"
   ]
  },
  {
   "cell_type": "code",
   "execution_count": 11,
   "id": "a9e573ac",
   "metadata": {},
   "outputs": [
    {
     "name": "stdout",
     "output_type": "stream",
     "text": [
      "2003\n"
     ]
    }
   ],
   "source": [
    "print(len(test_set))"
   ]
  },
  {
   "cell_type": "code",
   "execution_count": 12,
   "id": "104742b9",
   "metadata": {},
   "outputs": [
    {
     "data": {
      "text/plain": [
       "array([2, 4, 6, 1, 3, 0, 5], dtype=int64)"
      ]
     },
     "execution_count": 12,
     "metadata": {},
     "output_type": "execute_result"
    }
   ],
   "source": [
    "df.label.unique()"
   ]
  },
  {
   "cell_type": "code",
   "execution_count": 13,
   "id": "7deb8ab9",
   "metadata": {},
   "outputs": [],
   "source": [
    "# reference: https://www.kaggle.com/kmader/skin-cancer-mnist-ham10000/discussion/183083\n",
    "classes={\n",
    "    0:('akiec', 'actinic keratoses and intraepithelial carcinomae'),\n",
    "         \n",
    "    1:('bcc' , 'basal cell carcinoma'),\n",
    "         \n",
    "    2:('bkl', 'benign keratosis-like lesions'),\n",
    "         \n",
    "    3:('df', 'dermatofibroma'),\n",
    "         \n",
    "    4:('nv', ' melanocytic nevi'),\n",
    "         \n",
    "    5:('vasc', ' pyogenic granulomas and hemorrhage'),\n",
    "         \n",
    "    6:('mel', 'melanoma'),\n",
    "}"
   ]
  },
  {
   "cell_type": "code",
   "execution_count": 14,
   "id": "997a8e1d",
   "metadata": {},
   "outputs": [],
   "source": [
    "y_train=train_set['label']\n",
    "\n",
    "x_train=train_set.drop(columns=['label'])\n",
    "\n",
    "y_test=test_set['label']\n",
    "\n",
    "x_test=test_set.drop(columns=['label'])\n",
    "\n",
    "columns=list(x_train)"
   ]
  },
  {
   "cell_type": "code",
   "execution_count": 15,
   "id": "b48d911e",
   "metadata": {},
   "outputs": [
    {
     "name": "stdout",
     "output_type": "stream",
     "text": [
      "cpu\n"
     ]
    }
   ],
   "source": [
    "import torch\n",
    "\n",
    "device = torch.device(\"cuda:0\" if torch.cuda.is_available() else \"cpu\")\n",
    "\n",
    "print(device)"
   ]
  },
  {
   "cell_type": "markdown",
   "id": "04d4fbb2",
   "metadata": {},
   "source": [
    "# Step 4: Exploring data and analysing "
   ]
  },
  {
   "cell_type": "code",
   "execution_count": 16,
   "id": "ed765184",
   "metadata": {},
   "outputs": [
    {
     "data": {
      "text/plain": [
       "<AxesSubplot:xlabel='label', ylabel='count'>"
      ]
     },
     "execution_count": 16,
     "metadata": {},
     "output_type": "execute_result"
    },
    {
     "data": {
      "image/png": "[encoded data removed]",
      "text/plain": [
       "<Figure size 432x288 with 1 Axes>"
      ]
     },
     "metadata": {
      "needs_background": "light"
     },
     "output_type": "display_data"
    }
   ],
   "source": [
    "import seaborn as sns\n",
    "\n",
    "sns.countplot(train_set['label'])"
   ]
  },
  {
   "cell_type": "code",
   "execution_count": 17,
   "id": "e89573c1",
   "metadata": {},
   "outputs": [],
   "source": [
    "from imblearn.over_sampling import RandomOverSampler \n",
    "\n",
    "oversample = RandomOverSampler()\n",
    "\n",
    "x_train,y_train  = oversample.fit_resample(x_train,y_train)"
   ]
  },
  {
   "cell_type": "code",
   "execution_count": 18,
   "id": "f580cac4",
   "metadata": {},
   "outputs": [
    {
     "data": {
      "text/plain": [
       "<AxesSubplot:xlabel='label', ylabel='count'>"
      ]
     },
     "execution_count": 18,
     "metadata": {},
     "output_type": "execute_result"
    },
    {
     "data": {
      "image/png": "[encoded data removed]",
      "text/plain": [
       "<Figure size 432x288 with 1 Axes>"
      ]
     },
     "metadata": {
      "needs_background": "light"
     },
     "output_type": "display_data"
    }
   ],
   "source": [
    "sns.countplot(y_train)"
   ]
  },
  {
   "cell_type": "code",
   "execution_count": 22,
   "id": "7d67941e",
   "metadata": {},
   "outputs": [
    {
     "data": {
      "image/png": "[encoded data removed]",
      "text/plain": [
       "<Figure size 432x288 with 1 Axes>"
      ]
     },
     "metadata": {
      "needs_background": "light"
     },
     "output_type": "display_data"
    },
    {
     "data": {
      "image/png": "[encoded data removed]",
      "text/plain": [
       "<Figure size 432x288 with 1 Axes>"
      ]
     },
     "metadata": {
      "needs_background": "light"
     },
     "output_type": "display_data"
    },
    {
     "data": {
      "image/png": "[encoded data removed]",
      "text/plain": [
       "<Figure size 432x288 with 1 Axes>"
      ]
     },
     "metadata": {
      "needs_background": "light"
     },
     "output_type": "display_data"
    }
   ],
   "source": [
    "import matplotlib.pyplot as plt\n",
    "import random\n",
    "\n",
    "num=random.randint(0,8000)\n",
    "x_train=np.array(x_train, dtype=np.uint8).reshape(-1,28,28,3)\n",
    "\n",
    "plt.imshow(x_train[num].reshape(28,28,3))\n",
    "plt.title(\"Random image from training data\")\n",
    "plt.show()\n",
    "num=random.randint(0,8000)\n",
    "plt.imshow(x_train[num].reshape(28,28,3))\n",
    "plt.title(\"Random image from training data\")\n",
    "plt.show()\n",
    "\n",
    "num=random.randint(0,8000)\n",
    "plt.imshow(x_train[num].reshape(28,28,3))\n",
    "plt.title(\"Random image from training data\")\n",
    "plt.show()"
   ]
  },
  {
   "cell_type": "markdown",
   "id": "f82ef278",
   "metadata": {},
   "source": [
    "# Step 5: CNN Algorithm(Model Buiding)"
   ]
  },
  {
   "cell_type": "code",
   "execution_count": 23,
   "id": "75fac08c",
   "metadata": {},
   "outputs": [],
   "source": [
    "from tensorflow.keras.models import Sequential\n",
    "from tensorflow.keras.layers import Conv2D, Flatten, Dense, MaxPool2D\n",
    "import tensorflow as tf"
   ]
  },
  {
   "cell_type": "code",
   "execution_count": 24,
   "id": "1fc5304c",
   "metadata": {},
   "outputs": [
    {
     "name": "stdout",
     "output_type": "stream",
     "text": [
      "Wall time: 0 ns\n",
      "Model: \"sequential\"\n",
      "_________________________________________________________________\n",
      " Layer (type)                Output Shape              Param #   \n",
      "=================================================================\n",
      " conv2d (Conv2D)             (None, 28, 28, 16)        448       \n",
      "                                                                 \n",
      " max_pooling2d (MaxPooling2D  (None, 14, 14, 16)       0         \n",
      " )                                                               \n",
      "                                                                 \n",
      " batch_normalization (BatchN  (None, 14, 14, 16)       64        \n",
      " ormalization)                                                   \n",
      "                                                                 \n",
      " conv2d_1 (Conv2D)           (None, 12, 12, 32)        4640      \n",
      "                                                                 \n",
      " conv2d_2 (Conv2D)           (None, 10, 10, 64)        18496     \n",
      "                                                                 \n",
      " max_pooling2d_1 (MaxPooling  (None, 5, 5, 64)         0         \n",
      " 2D)                                                             \n",
      "                                                                 \n",
      " batch_normalization_1 (Batc  (None, 5, 5, 64)         256       \n",
      " hNormalization)                                                 \n",
      "                                                                 \n",
      " conv2d_3 (Conv2D)           (None, 3, 3, 128)         73856     \n",
      "                                                                 \n",
      " conv2d_4 (Conv2D)           (None, 1, 1, 256)         295168    \n",
      "                                                                 \n",
      " flatten (Flatten)           (None, 256)               0         \n",
      "                                                                 \n",
      " dropout (Dropout)           (None, 256)               0         \n",
      "                                                                 \n",
      " dense (Dense)               (None, 256)               65792     \n",
      "                                                                 \n",
      " batch_normalization_2 (Batc  (None, 256)              1024      \n",
      " hNormalization)                                                 \n",
      "                                                                 \n",
      " dropout_1 (Dropout)         (None, 256)               0         \n",
      "                                                                 \n",
      " dense_1 (Dense)             (None, 128)               32896     \n",
      "                                                                 \n",
      " batch_normalization_3 (Batc  (None, 128)              512       \n",
      " hNormalization)                                                 \n",
      "                                                                 \n",
      " dense_2 (Dense)             (None, 64)                8256      \n",
      "                                                                 \n",
      " batch_normalization_4 (Batc  (None, 64)               256       \n",
      " hNormalization)                                                 \n",
      "                                                                 \n",
      " dropout_2 (Dropout)         (None, 64)                0         \n",
      "                                                                 \n",
      " dense_3 (Dense)             (None, 32)                2080      \n",
      "                                                                 \n",
      " batch_normalization_5 (Batc  (None, 32)               128       \n",
      " hNormalization)                                                 \n",
      "                                                                 \n",
      " dense_4 (Dense)             (None, 7)                 231       \n",
      "                                                                 \n",
      "=================================================================\n",
      "Total params: 504,103\n",
      "Trainable params: 502,983\n",
      "Non-trainable params: 1,120\n",
      "_________________________________________________________________\n"
     ]
    }
   ],
   "source": [
    "#https://keras.io/api/models/sequential/\n",
    "#https://keras.io/api/layers/core_layers/dense/\n",
    "#https://keras.io/api/layers/merging_layers/add/\n",
    "#https://keras.io/api/layers/convolution_layers/convolution2d\n",
    "#https://keras.io/api/layers/convolution_layers/convolution2d\n",
    "#https://www.tensorflow.org/api_docs/python/tf/keras/layers/BatchNormalization\n",
    "\n",
    "\n",
    "%time \n",
    "\n",
    "model = Sequential()\n",
    "\n",
    "model.add(Conv2D(16, \n",
    "                 kernel_size = (3,3), \n",
    "                 input_shape = (28, 28, 3), \n",
    "                 activation = 'relu', \n",
    "                 padding = 'same'))\n",
    "\n",
    "model.add(MaxPool2D(pool_size = (2,2)))\n",
    "model.add(tf.keras.layers.BatchNormalization())\n",
    "\n",
    "model.add(Conv2D(32, \n",
    "                 kernel_size = (3,3), \n",
    "                 activation = 'relu'))\n",
    "\n",
    "model.add(Conv2D(64, \n",
    "                 kernel_size = (3,3), \n",
    "                 activation = 'relu'))\n",
    "\n",
    "model.add(MaxPool2D(pool_size = (2,2)))\n",
    "\n",
    "model.add(tf.keras.layers.BatchNormalization())\n",
    "\n",
    "model.add(Conv2D(128, \n",
    "                 kernel_size = (3,3), \n",
    "                 activation = 'relu'))\n",
    "\n",
    "model.add(Conv2D(256, \n",
    "                 kernel_size = (3,3), \n",
    "                 activation = 'relu'))\n",
    "\n",
    "model.add(Flatten())\n",
    "model.add(tf.keras.layers.Dropout(0.2))\n",
    "model.add(Dense(256,activation='relu'))\n",
    "\n",
    "model.add(tf.keras.layers.BatchNormalization())\n",
    "model.add(tf.keras.layers.Dropout(0.2))\n",
    "model.add(Dense(128,activation='relu'))\n",
    "\n",
    "model.add(tf.keras.layers.BatchNormalization())\n",
    "model.add(Dense(64,activation='relu'))\n",
    "\n",
    "model.add(tf.keras.layers.BatchNormalization())\n",
    "model.add(tf.keras.layers.Dropout(0.2))\n",
    "model.add(Dense(32,activation='relu'))\n",
    "\n",
    "model.add(tf.keras.layers.BatchNormalization())\n",
    "model.add(Dense(7,activation='softmax'))\n",
    "\n",
    "model.summary()"
   ]
  },
  {
   "cell_type": "markdown",
   "id": "d2c2f6db",
   "metadata": {},
   "source": [
    "# Step 6: Setting Optimizer and Annealing"
   ]
  },
  {
   "cell_type": "code",
   "execution_count": 25,
   "id": "a0c6f576",
   "metadata": {},
   "outputs": [],
   "source": [
    "#reference: https://www.kaggle.com/dhruv1234/ham10000-skin-disease-classification\n",
    "\n",
    "callback = tf.keras.callbacks.ModelCheckpoint(filepath='best_model.h5',\n",
    "                                              monitor='val_acc', \n",
    "                                              mode='max',\n",
    "                                              verbose=1,\n",
    "                                              save_best_only=True)"
   ]
  },
  {
   "cell_type": "code",
   "execution_count": 26,
   "id": "890ba461",
   "metadata": {},
   "outputs": [
    {
     "name": "stdout",
     "output_type": "stream",
     "text": [
      "Wall time: 0 ns\n"
     ]
    }
   ],
   "source": [
    "%time \n",
    "\n",
    "optimizer=tf.keras.optimizers.Adam(lr=0.001)\n",
    "\n",
    "model.compile(loss = 'sparse_categorical_crossentropy',\n",
    "              optimizer =optimizer,\n",
    "              metrics = ['accuracy'])"
   ]
  },
  {
   "cell_type": "markdown",
   "id": "ee3f863d",
   "metadata": {},
   "source": [
    "# Step 7: Fitting the Model"
   ]
  },
  {
   "cell_type": "code",
   "execution_count": 27,
   "id": "9bf1e7a9",
   "metadata": {},
   "outputs": [
    {
     "name": "stdout",
     "output_type": "stream",
     "text": [
      "Epoch 1/50\n",
      "234/235 [============================>.] - ETA: 0s - loss: 1.2233 - accuracy: 0.5673WARNING:tensorflow:Can save best model only with val_acc available, skipping.\n",
      "235/235 [==============================] - 23s 80ms/step - loss: 1.2229 - accuracy: 0.5675 - val_loss: 2.7710 - val_accuracy: 0.0224\n",
      "Epoch 2/50\n",
      "234/235 [============================>.] - ETA: 0s - loss: 0.4303 - accuracy: 0.8574WARNING:tensorflow:Can save best model only with val_acc available, skipping.\n",
      "235/235 [==============================] - 18s 75ms/step - loss: 0.4304 - accuracy: 0.8574 - val_loss: 1.9682 - val_accuracy: 0.2680\n",
      "Epoch 3/50\n",
      "234/235 [============================>.] - ETA: 0s - loss: 0.2763 - accuracy: 0.9064WARNING:tensorflow:Can save best model only with val_acc available, skipping.\n",
      "235/235 [==============================] - 19s 81ms/step - loss: 0.2766 - accuracy: 0.9063 - val_loss: 1.3548 - val_accuracy: 0.3884\n",
      "Epoch 4/50\n",
      "234/235 [============================>.] - ETA: 0s - loss: 0.2153 - accuracy: 0.9265WARNING:tensorflow:Can save best model only with val_acc available, skipping.\n",
      "235/235 [==============================] - 18s 77ms/step - loss: 0.2152 - accuracy: 0.9266 - val_loss: 1.4789 - val_accuracy: 0.4274\n",
      "Epoch 5/50\n",
      "234/235 [============================>.] - ETA: 0s - loss: 0.1794 - accuracy: 0.9372WARNING:tensorflow:Can save best model only with val_acc available, skipping.\n",
      "235/235 [==============================] - 17s 74ms/step - loss: 0.1797 - accuracy: 0.9371 - val_loss: 0.6284 - val_accuracy: 0.6877\n",
      "Epoch 6/50\n",
      "234/235 [============================>.] - ETA: 0s - loss: 0.1525 - accuracy: 0.9476WARNING:tensorflow:Can save best model only with val_acc available, skipping.\n",
      "235/235 [==============================] - 17s 72ms/step - loss: 0.1525 - accuracy: 0.9476 - val_loss: 0.6760 - val_accuracy: 0.7218\n",
      "Epoch 7/50\n",
      "234/235 [============================>.] - ETA: 0s - loss: 0.1222 - accuracy: 0.9558WARNING:tensorflow:Can save best model only with val_acc available, skipping.\n",
      "235/235 [==============================] - 17s 73ms/step - loss: 0.1222 - accuracy: 0.9558 - val_loss: 0.5171 - val_accuracy: 0.7338\n",
      "Epoch 8/50\n",
      "234/235 [============================>.] - ETA: 0s - loss: 0.1167 - accuracy: 0.9587WARNING:tensorflow:Can save best model only with val_acc available, skipping.\n",
      "235/235 [==============================] - 17s 72ms/step - loss: 0.1167 - accuracy: 0.9587 - val_loss: 0.7734 - val_accuracy: 0.7231\n",
      "Epoch 9/50\n",
      "234/235 [============================>.] - ETA: 0s - loss: 0.0997 - accuracy: 0.9646WARNING:tensorflow:Can save best model only with val_acc available, skipping.\n",
      "235/235 [==============================] - 17s 73ms/step - loss: 0.0998 - accuracy: 0.9646 - val_loss: 0.2141 - val_accuracy: 0.9134\n",
      "Epoch 10/50\n",
      "234/235 [============================>.] - ETA: 0s - loss: 0.0945 - accuracy: 0.9666WARNING:tensorflow:Can save best model only with val_acc available, skipping.\n",
      "235/235 [==============================] - 17s 73ms/step - loss: 0.0946 - accuracy: 0.9665 - val_loss: 0.7782 - val_accuracy: 0.6456\n",
      "Epoch 11/50\n",
      "234/235 [============================>.] - ETA: 0s - loss: 0.0923 - accuracy: 0.9676WARNING:tensorflow:Can save best model only with val_acc available, skipping.\n",
      "235/235 [==============================] - 17s 73ms/step - loss: 0.0922 - accuracy: 0.9676 - val_loss: 0.5682 - val_accuracy: 0.7301\n",
      "Epoch 12/50\n",
      "234/235 [============================>.] - ETA: 0s - loss: 0.0711 - accuracy: 0.9750WARNING:tensorflow:Can save best model only with val_acc available, skipping.\n",
      "235/235 [==============================] - 17s 73ms/step - loss: 0.0711 - accuracy: 0.9750 - val_loss: 0.7946 - val_accuracy: 0.7233\n",
      "Epoch 13/50\n",
      "234/235 [============================>.] - ETA: 0s - loss: 0.0733 - accuracy: 0.9749WARNING:tensorflow:Can save best model only with val_acc available, skipping.\n",
      "235/235 [==============================] - 18s 75ms/step - loss: 0.0733 - accuracy: 0.9749 - val_loss: 0.3614 - val_accuracy: 0.8212\n",
      "Epoch 14/50\n",
      "234/235 [============================>.] - ETA: 0s - loss: 0.0623 - accuracy: 0.9786WARNING:tensorflow:Can save best model only with val_acc available, skipping.\n",
      "235/235 [==============================] - 17s 72ms/step - loss: 0.0624 - accuracy: 0.9786 - val_loss: 0.3288 - val_accuracy: 0.8578\n",
      "Epoch 15/50\n",
      "234/235 [============================>.] - ETA: 0s - loss: 0.0502 - accuracy: 0.9832WARNING:tensorflow:Can save best model only with val_acc available, skipping.\n",
      "235/235 [==============================] - 17s 72ms/step - loss: 0.0503 - accuracy: 0.9832 - val_loss: 0.3344 - val_accuracy: 0.8606\n",
      "Epoch 16/50\n",
      "234/235 [============================>.] - ETA: 0s - loss: 0.0593 - accuracy: 0.9810WARNING:tensorflow:Can save best model only with val_acc available, skipping.\n",
      "235/235 [==============================] - 17s 73ms/step - loss: 0.0593 - accuracy: 0.9810 - val_loss: 0.4213 - val_accuracy: 0.8137\n",
      "Epoch 17/50\n",
      "234/235 [============================>.] - ETA: 0s - loss: 0.0614 - accuracy: 0.9785WARNING:tensorflow:Can save best model only with val_acc available, skipping.\n",
      "235/235 [==============================] - 17s 74ms/step - loss: 0.0615 - accuracy: 0.9784 - val_loss: 0.8611 - val_accuracy: 0.7049\n",
      "Epoch 18/50\n",
      "234/235 [============================>.] - ETA: 0s - loss: 0.0415 - accuracy: 0.9861WARNING:tensorflow:Can save best model only with val_acc available, skipping.\n",
      "235/235 [==============================] - 17s 74ms/step - loss: 0.0415 - accuracy: 0.9861 - val_loss: 0.4183 - val_accuracy: 0.8590\n",
      "Epoch 19/50\n",
      "234/235 [============================>.] - ETA: 0s - loss: 0.0518 - accuracy: 0.9825WARNING:tensorflow:Can save best model only with val_acc available, skipping.\n",
      "235/235 [==============================] - 18s 75ms/step - loss: 0.0518 - accuracy: 0.9825 - val_loss: 0.1855 - val_accuracy: 0.9326\n",
      "Epoch 20/50\n",
      "234/235 [============================>.] - ETA: 0s - loss: 0.0418 - accuracy: 0.9854WARNING:tensorflow:Can save best model only with val_acc available, skipping.\n",
      "235/235 [==============================] - 19s 83ms/step - loss: 0.0421 - accuracy: 0.9854 - val_loss: 0.5779 - val_accuracy: 0.7831\n",
      "Epoch 21/50\n",
      "234/235 [============================>.] - ETA: 0s - loss: 0.0469 - accuracy: 0.9846WARNING:tensorflow:Can save best model only with val_acc available, skipping.\n",
      "235/235 [==============================] - 18s 75ms/step - loss: 0.0469 - accuracy: 0.9847 - val_loss: 0.3576 - val_accuracy: 0.8890\n",
      "Epoch 22/50\n",
      "234/235 [============================>.] - ETA: 0s - loss: 0.0313 - accuracy: 0.9890WARNING:tensorflow:Can save best model only with val_acc available, skipping.\n",
      "235/235 [==============================] - 17s 74ms/step - loss: 0.0314 - accuracy: 0.9890 - val_loss: 0.2483 - val_accuracy: 0.9209\n",
      "Epoch 23/50\n",
      "234/235 [============================>.] - ETA: 0s - loss: 0.0320 - accuracy: 0.9895WARNING:tensorflow:Can save best model only with val_acc available, skipping.\n",
      "235/235 [==============================] - 17s 73ms/step - loss: 0.0320 - accuracy: 0.9895 - val_loss: 0.3655 - val_accuracy: 0.8889\n",
      "Epoch 24/50\n",
      "234/235 [============================>.] - ETA: 0s - loss: 0.0365 - accuracy: 0.9887WARNING:tensorflow:Can save best model only with val_acc available, skipping.\n",
      "235/235 [==============================] - 18s 75ms/step - loss: 0.0365 - accuracy: 0.9888 - val_loss: 0.1938 - val_accuracy: 0.9177\n",
      "Epoch 25/50\n",
      "234/235 [============================>.] - ETA: 0s - loss: 0.0318 - accuracy: 0.9898WARNING:tensorflow:Can save best model only with val_acc available, skipping.\n",
      "235/235 [==============================] - 17s 74ms/step - loss: 0.0318 - accuracy: 0.9897 - val_loss: 1.2668 - val_accuracy: 0.6579\n",
      "Epoch 26/50\n",
      "234/235 [============================>.] - ETA: 0s - loss: 0.0206 - accuracy: 0.9930WARNING:tensorflow:Can save best model only with val_acc available, skipping.\n",
      "235/235 [==============================] - 17s 73ms/step - loss: 0.0206 - accuracy: 0.9929 - val_loss: 0.3756 - val_accuracy: 0.8841\n",
      "Epoch 27/50\n",
      "234/235 [============================>.] - ETA: 0s - loss: 0.0347 - accuracy: 0.9887WARNING:tensorflow:Can save best model only with val_acc available, skipping.\n",
      "235/235 [==============================] - 17s 74ms/step - loss: 0.0347 - accuracy: 0.9887 - val_loss: 0.2019 - val_accuracy: 0.9206\n",
      "Epoch 28/50\n",
      "234/235 [============================>.] - ETA: 0s - loss: 0.0296 - accuracy: 0.9903WARNING:tensorflow:Can save best model only with val_acc available, skipping.\n",
      "235/235 [==============================] - 17s 74ms/step - loss: 0.0296 - accuracy: 0.9903 - val_loss: 0.7454 - val_accuracy: 0.7809\n",
      "Epoch 29/50\n",
      "234/235 [============================>.] - ETA: 0s - loss: 0.0312 - accuracy: 0.9902WARNING:tensorflow:Can save best model only with val_acc available, skipping.\n",
      "235/235 [==============================] - 17s 72ms/step - loss: 0.0312 - accuracy: 0.9901 - val_loss: 0.5262 - val_accuracy: 0.8426\n",
      "Epoch 30/50\n",
      "234/235 [============================>.] - ETA: 0s - loss: 0.0265 - accuracy: 0.9904WARNING:tensorflow:Can save best model only with val_acc available, skipping.\n",
      "235/235 [==============================] - 17s 71ms/step - loss: 0.0265 - accuracy: 0.9904 - val_loss: 0.0567 - val_accuracy: 0.9757\n",
      "Epoch 31/50\n",
      "234/235 [============================>.] - ETA: 0s - loss: 0.0241 - accuracy: 0.9924WARNING:tensorflow:Can save best model only with val_acc available, skipping.\n",
      "235/235 [==============================] - 17s 72ms/step - loss: 0.0243 - accuracy: 0.9923 - val_loss: 0.3518 - val_accuracy: 0.9018\n",
      "Epoch 32/50\n",
      "234/235 [============================>.] - ETA: 0s - loss: 0.0246 - accuracy: 0.9914WARNING:tensorflow:Can save best model only with val_acc available, skipping.\n",
      "235/235 [==============================] - 17s 71ms/step - loss: 0.0246 - accuracy: 0.9914 - val_loss: 0.0908 - val_accuracy: 0.9717\n",
      "Epoch 33/50\n",
      "234/235 [============================>.] - ETA: 0s - loss: 0.0276 - accuracy: 0.9906WARNING:tensorflow:Can save best model only with val_acc available, skipping.\n",
      "235/235 [==============================] - 17s 72ms/step - loss: 0.0276 - accuracy: 0.9906 - val_loss: 0.0978 - val_accuracy: 0.9660\n",
      "Epoch 34/50\n",
      "234/235 [============================>.] - ETA: 0s - loss: 0.0104 - accuracy: 0.9965WARNING:tensorflow:Can save best model only with val_acc available, skipping.\n",
      "235/235 [==============================] - 17s 73ms/step - loss: 0.0104 - accuracy: 0.9965 - val_loss: 0.1261 - val_accuracy: 0.9614\n",
      "Epoch 35/50\n",
      "234/235 [============================>.] - ETA: 0s - loss: 0.0233 - accuracy: 0.9929WARNING:tensorflow:Can save best model only with val_acc available, skipping.\n",
      "235/235 [==============================] - 17s 74ms/step - loss: 0.0234 - accuracy: 0.9929 - val_loss: 0.2163 - val_accuracy: 0.9294\n",
      "Epoch 36/50\n",
      "234/235 [============================>.] - ETA: 0s - loss: 0.0261 - accuracy: 0.9921WARNING:tensorflow:Can save best model only with val_acc available, skipping.\n",
      "235/235 [==============================] - 17s 73ms/step - loss: 0.0261 - accuracy: 0.9921 - val_loss: 0.2383 - val_accuracy: 0.9297\n",
      "Epoch 37/50\n",
      "234/235 [============================>.] - ETA: 0s - loss: 0.0155 - accuracy: 0.9947WARNING:tensorflow:Can save best model only with val_acc available, skipping.\n",
      "235/235 [==============================] - 17s 72ms/step - loss: 0.0156 - accuracy: 0.9947 - val_loss: 0.0585 - val_accuracy: 0.9781\n",
      "Epoch 38/50\n",
      "234/235 [============================>.] - ETA: 0s - loss: 0.0186 - accuracy: 0.9934WARNING:tensorflow:Can save best model only with val_acc available, skipping.\n",
      "235/235 [==============================] - 17s 72ms/step - loss: 0.0187 - accuracy: 0.9934 - val_loss: 0.0768 - val_accuracy: 0.9736\n",
      "Epoch 39/50\n",
      "234/235 [============================>.] - ETA: 0s - loss: 0.0154 - accuracy: 0.9948WARNING:tensorflow:Can save best model only with val_acc available, skipping.\n",
      "235/235 [==============================] - 17s 72ms/step - loss: 0.0155 - accuracy: 0.9948 - val_loss: 0.0998 - val_accuracy: 0.9640\n",
      "Epoch 40/50\n",
      "234/235 [============================>.] - ETA: 0s - loss: 0.0204 - accuracy: 0.9933WARNING:tensorflow:Can save best model only with val_acc available, skipping.\n",
      "235/235 [==============================] - 17s 72ms/step - loss: 0.0204 - accuracy: 0.9933 - val_loss: 0.1482 - val_accuracy: 0.9516\n",
      "Epoch 41/50\n",
      "234/235 [============================>.] - ETA: 0s - loss: 0.0198 - accuracy: 0.9935WARNING:tensorflow:Can save best model only with val_acc available, skipping.\n",
      "235/235 [==============================] - 17s 72ms/step - loss: 0.0198 - accuracy: 0.9935 - val_loss: 0.0236 - val_accuracy: 0.9904\n",
      "Epoch 42/50\n",
      "234/235 [============================>.] - ETA: 0s - loss: 0.0103 - accuracy: 0.9966WARNING:tensorflow:Can save best model only with val_acc available, skipping.\n",
      "235/235 [==============================] - 17s 73ms/step - loss: 0.0103 - accuracy: 0.9966 - val_loss: 1.4727 - val_accuracy: 0.7157\n",
      "Epoch 43/50\n",
      "234/235 [============================>.] - ETA: 0s - loss: 0.0149 - accuracy: 0.9954WARNING:tensorflow:Can save best model only with val_acc available, skipping.\n",
      "235/235 [==============================] - 17s 74ms/step - loss: 0.0151 - accuracy: 0.9954 - val_loss: 0.1781 - val_accuracy: 0.9468\n",
      "Epoch 44/50\n",
      "234/235 [============================>.] - ETA: 0s - loss: 0.0234 - accuracy: 0.9925WARNING:tensorflow:Can save best model only with val_acc available, skipping.\n",
      "235/235 [==============================] - 17s 72ms/step - loss: 0.0234 - accuracy: 0.9925 - val_loss: 1.5619 - val_accuracy: 0.6954\n",
      "Epoch 45/50\n",
      "234/235 [============================>.] - ETA: 0s - loss: 0.0138 - accuracy: 0.9959WARNING:tensorflow:Can save best model only with val_acc available, skipping.\n",
      "235/235 [==============================] - 18s 76ms/step - loss: 0.0137 - accuracy: 0.9959 - val_loss: 0.5035 - val_accuracy: 0.8554\n",
      "Epoch 46/50\n",
      "234/235 [============================>.] - ETA: 0s - loss: 0.0158 - accuracy: 0.9943WARNING:tensorflow:Can save best model only with val_acc available, skipping.\n",
      "235/235 [==============================] - 17s 74ms/step - loss: 0.0158 - accuracy: 0.9943 - val_loss: 0.0231 - val_accuracy: 0.9912\n",
      "Epoch 47/50\n",
      "234/235 [============================>.] - ETA: 0s - loss: 0.0120 - accuracy: 0.9966WARNING:tensorflow:Can save best model only with val_acc available, skipping.\n",
      "235/235 [==============================] - 17s 73ms/step - loss: 0.0120 - accuracy: 0.9965 - val_loss: 0.0107 - val_accuracy: 0.9972\n",
      "Epoch 48/50\n",
      "234/235 [============================>.] - ETA: 0s - loss: 0.0149 - accuracy: 0.9952WARNING:tensorflow:Can save best model only with val_acc available, skipping.\n",
      "235/235 [==============================] - 17s 73ms/step - loss: 0.0149 - accuracy: 0.9952 - val_loss: 0.0449 - val_accuracy: 0.9853\n",
      "Epoch 49/50\n",
      "234/235 [============================>.] - ETA: 0s - loss: 0.0035 - accuracy: 0.9991WARNING:tensorflow:Can save best model only with val_acc available, skipping.\n",
      "235/235 [==============================] - 19s 80ms/step - loss: 0.0035 - accuracy: 0.9991 - val_loss: 0.2940 - val_accuracy: 0.9321\n",
      "Epoch 50/50\n",
      "234/235 [============================>.] - ETA: 0s - loss: 0.0174 - accuracy: 0.9948WARNING:tensorflow:Can save best model only with val_acc available, skipping.\n",
      "235/235 [==============================] - 18s 75ms/step - loss: 0.0174 - accuracy: 0.9948 - val_loss: 0.1261 - val_accuracy: 0.9472\n",
      "Duration: 0:14:32.294461\n"
     ]
    }
   ],
   "source": [
    "from datetime import datetime\n",
    "\n",
    "start_time = datetime.now()\n",
    "\n",
    "history = model.fit(x_train,\n",
    "                    y_train,\n",
    "                    validation_split=0.2,\n",
    "                    batch_size = 128,\n",
    "                    epochs = 50,\n",
    "                    shuffle=True,\n",
    "                    callbacks=[callback])\n",
    "\n",
    "end_time = datetime.now()\n",
    "\n",
    "print('Duration: {}'.format(end_time - start_time))"
   ]
  },
  {
   "cell_type": "markdown",
   "id": "446a17ac",
   "metadata": {},
   "source": [
    "# Step 8: Model Evaluation"
   ]
  },
  {
   "cell_type": "code",
   "execution_count": 38,
   "id": "8dc2778c",
   "metadata": {},
   "outputs": [
    {
     "data": {
      "image/png": "[encoded data removed]",
      "text/plain": [
       "<Figure size 432x288 with 1 Axes>"
      ]
     },
     "metadata": {
      "needs_background": "light"
     },
     "output_type": "display_data"
    }
   ],
   "source": [
    "#plot of accuracy vs epoch\n",
    "\n",
    "plt.plot(history.history['accuracy'])\n",
    "\n",
    "plt.plot(history.history['val_accuracy'])\n",
    "\n",
    "plt.title('model accuracy')\n",
    "\n",
    "plt.ylabel('accuracy')\n",
    "\n",
    "plt.xlabel('epoch')\n",
    "\n",
    "plt.legend(['train', 'val'], loc='upper left')\n",
    "\n",
    "plt.show()"
   ]
  },
  {
   "cell_type": "code",
   "execution_count": 39,
   "id": "c26f000d",
   "metadata": {},
   "outputs": [
    {
     "data": {
      "image/png": "[encoded data removed]",
      "text/plain": [
       "<Figure size 432x288 with 1 Axes>"
      ]
     },
     "metadata": {
      "needs_background": "light"
     },
     "output_type": "display_data"
    }
   ],
   "source": [
    "#plot of loss vs epoch\n",
    "\n",
    "plt.plot(history.history['loss'])\n",
    "\n",
    "plt.plot(history.history['val_loss'])\n",
    "\n",
    "plt.title('model loss')\n",
    "\n",
    "plt.ylabel('loss')\n",
    "\n",
    "plt.xlabel('epoch')\n",
    "\n",
    "plt.legend(['train', 'val'], loc='upper left')\n",
    "\n",
    "plt.show()"
   ]
  },
  {
   "cell_type": "code",
   "execution_count": 40,
   "id": "251b0d71",
   "metadata": {},
   "outputs": [
    {
     "name": "stdout",
     "output_type": "stream",
     "text": [
      "63/63 - 1s - loss: 1.5911 - accuracy: 0.7409 - 777ms/epoch - 12ms/step\n"
     ]
    }
   ],
   "source": [
    "x_test=np.array(x_test).reshape(-1,28,28,3)\n",
    "\n",
    "loss, acc = model.evaluate(x_test, y_test, verbose=2)"
   ]
  },
  {
   "cell_type": "code",
   "execution_count": 41,
   "id": "13c779f5",
   "metadata": {},
   "outputs": [],
   "source": [
    "#accueacy is measured using confusion matrix\n",
    "from sklearn.metrics import confusion_matrix\n",
    "\n",
    "y_pred = model.predict(x_test)\n",
    "y_pred = np.argmax(y_pred, axis=1)\n",
    "\n",
    "conf_mat = confusion_matrix(y_test, y_pred)\n"
   ]
  },
  {
   "cell_type": "code",
   "execution_count": 42,
   "id": "2664240d",
   "metadata": {},
   "outputs": [
    {
     "name": "stdout",
     "output_type": "stream",
     "text": [
      "[[  24    7   10    1   22    0    1]\n",
      " [  11   43    6    4   32    2    4]\n",
      " [   6    7   85    3   97    1   19]\n",
      " [   1    2    3    9    8    0    0]\n",
      " [   9    9   51    5 1246    1   31]\n",
      " [   0    3    0    0    3   21    2]\n",
      " [   9    7   28    0  113    1   56]]\n"
     ]
    }
   ],
   "source": [
    "print(conf_mat)"
   ]
  },
  {
   "cell_type": "code",
   "execution_count": 43,
   "id": "6b46218c",
   "metadata": {},
   "outputs": [
    {
     "data": {
      "image/png": "[encoded data removed]",
      "text/plain": [
       "<Figure size 720x720 with 2 Axes>"
      ]
     },
     "metadata": {
      "needs_background": "light"
     },
     "output_type": "display_data"
    }
   ],
   "source": [
    "import seaborn as sns\n",
    "import matplotlib.pyplot as plt\n",
    "fig, ax = plt.subplots(figsize=(10,10)) \n",
    "\n",
    "\n",
    "ax = sns.heatmap(conf_mat, annot=True, cmap='Blues', linewidths=.9, ax=ax)\n",
    "\n",
    "ax.set_title('Confusion Matrix with labels\\n\\n');\n",
    "\n",
    "ax.set_xlabel('\\nPredicted Values')\n",
    "\n",
    "ax.set_ylabel('Actual Values ');\n",
    "\n",
    "ax.xaxis.set_ticklabels(['0','1','2','3','4','5','6'])\n",
    "\n",
    "ax.yaxis.set_ticklabels(['0','1','2','3','4','5','6'])\n",
    "\n",
    "plt.show()"
   ]
  },
  {
   "cell_type": "code",
   "execution_count": 44,
   "id": "67ab7e46",
   "metadata": {},
   "outputs": [
    {
     "data": {
      "image/png": "[encoded data removed]",
      "text/plain": [
       "<Figure size 720x720 with 2 Axes>"
      ]
     },
     "metadata": {
      "needs_background": "light"
     },
     "output_type": "display_data"
    }
   ],
   "source": [
    "import seaborn as sns\n",
    "import matplotlib.pyplot as plt\n",
    "fig, ax = plt.subplots(figsize=(10,10)) \n",
    "\n",
    "\n",
    "ax = sns.heatmap(conf_mat/np.sum(conf_mat), annot=True, fmt='.2%', cmap='Blues', linewidths=.9, ax=ax)\n",
    "\n",
    "ax.set_title('Confusion Matrix with labels\\n\\n');\n",
    "\n",
    "ax.set_xlabel('\\nPredicted Values')\n",
    "\n",
    "ax.set_ylabel('Actual Values ');\n",
    "\n",
    "ax.xaxis.set_ticklabels(['0','1','2','3','4','5','6'])\n",
    "\n",
    "ax.yaxis.set_ticklabels(['0','1','2','3','4','5','6'])\n",
    "\n",
    "plt.show()"
   ]
  },
  {
   "cell_type": "code",
   "execution_count": 45,
   "id": "0ee71df7",
   "metadata": {
    "scrolled": true
   },
   "outputs": [
    {
     "name": "stdout",
     "output_type": "stream",
     "text": [
      "[3.3659287e-06 1.5911672e-06 9.9991417e-01 5.7748082e-07 4.0680636e-05\n",
      " 1.1602834e-06 3.8449740e-05]\n",
      "('bkl', 'benign keratosis-like lesions')\n"
     ]
    }
   ],
   "source": [
    "import PIL\n",
    "# take any images from HAM10000_images_part_1 or HAM10000_images_part_2 file for sample image that  is location (ex:ISIC_0024306.jpg)\n",
    "image=PIL.Image.open('sampleimage.jpg')\n",
    "\n",
    "image=image.resize((28,28))\n",
    "\n",
    "img=x_test[1]\n",
    "\n",
    "img=np.array(image).reshape(-1,28,28,3)\n",
    "\n",
    "result=model.predict(img)\n",
    "\n",
    "print(result[0])\n",
    "\n",
    "result=result.tolist()\n",
    "\n",
    "max_prob=max(result[0])\n",
    "\n",
    "class_ind=result[0].index(max_prob)\n",
    "\n",
    "print(classes[class_ind])"
   ]
  }
 ],
 "metadata": {
  "kernelspec": {
   "display_name": "Python 3 (ipykernel)",
   "language": "python",
   "name": "python3"
  },
  "language_info": {
   "codemirror_mode": {
    "name": "ipython",
    "version": 3
   },
   "file_extension": ".py",
   "mimetype": "text/x-python",
   "name": "python",
   "nbconvert_exporter": "python",
   "pygments_lexer": "ipython3",
   "version": "3.9.7"
  }
 },
 "nbformat": 4,
 "nbformat_minor": 5
}
